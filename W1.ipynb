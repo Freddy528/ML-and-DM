{
 "cells": [
  {
   "cell_type": "markdown",
   "metadata": {},
   "source": [
    "# Data structures"
   ]
  },
  {
   "cell_type": "code",
   "execution_count": 23,
   "metadata": {},
   "outputs": [
    {
     "name": "stdout",
     "output_type": "stream",
     "text": [
      "list: [1, 3, 4]\n",
      "dictionary: {1: 'One', 2: 'Two', 3: 'Three'}\n",
      "tuple: (1, 2, 3)\n",
      "set: {1, 2, 3}\n"
     ]
    }
   ],
   "source": [
    "list = [1,3,4]\n",
    "dictionary = {1: \"One\", 2: \"Two\", 3: \"Three\"} \n",
    "tuple = (1, 2, 3)\n",
    "set = {1, 2, 3}\n",
    "\n",
    "print(\"list:\", list) \n",
    "print(\"dictionary:\", dictionary) \n",
    "print(\"tuple:\", tuple) \n",
    "print(\"set:\", set)\n"
   ]
  },
  {
   "cell_type": "markdown",
   "metadata": {},
   "source": [
    "# Useful Functions"
   ]
  },
  {
   "cell_type": "code",
   "execution_count": 22,
   "metadata": {},
   "outputs": [
    {
     "name": "stdout",
     "output_type": "stream",
     "text": [
      "3\n",
      "hi 3\n",
      "hi 3\n",
      "[1, 2, 3, 4]\n",
      "[1, 3, 4]\n",
      "3\n",
      "[1, 4]\n",
      "1\n",
      "Help on built-in function len in module builtins:\n",
      "\n",
      "len(obj, /)\n",
      "    Return the number of items in a container.\n",
      "\n"
     ]
    }
   ],
   "source": [
    "#Length of list\n",
    "list = [1,2,3]\n",
    "print(len(list))\n",
    "#String concatenation and int to string function\n",
    "print(f'hi {len(list)}') # use format\n",
    "print('hi ' + str(len(list)))\n",
    "#Append/remove in list\n",
    "list.append(4)\n",
    "print(list)\n",
    "list.remove(2)\n",
    "print(list)\n",
    "print(list.pop(1))\n",
    "print(list)\n",
    "#Count number in list\n",
    "print(list.count(4))\n",
    "\n",
    "# The help function can used on any other function to display its documentation\n",
    "help(len)"
   ]
  },
  {
   "cell_type": "markdown",
   "metadata": {},
   "source": [
    "# Loops and conditions in Python "
   ]
  },
  {
   "cell_type": "code",
   "execution_count": 22,
   "metadata": {},
   "outputs": [
    {
     "name": "stdout",
     "output_type": "stream",
     "text": [
      "0\n",
      "2\n",
      "1\n",
      "1\n",
      "0\n",
      "1\n"
     ]
    }
   ],
   "source": [
    "for i in range(2):\n",
    "    print(i)\n",
    "    print(2-i)\n",
    "\n",
    "i = 0\n",
    "while i < len(range(2)):\n",
    "    print(i)\n",
    "    i += 1"
   ]
  },
  {
   "cell_type": "code",
   "execution_count": 8,
   "metadata": {},
   "outputs": [
    {
     "name": "stdout",
     "output_type": "stream",
     "text": [
      "This is an odd number.\n"
     ]
    }
   ],
   "source": [
    "# Conditions if and else are employed to nest conditions\n",
    "x = 5\n",
    "if x % 2 == 0:\n",
    "    print('This is an even number.')\n",
    "else:\n",
    "    print('This is an odd number.')"
   ]
  },
  {
   "cell_type": "markdown",
   "metadata": {},
   "source": [
    "# Functions"
   ]
  },
  {
   "cell_type": "code",
   "execution_count": 15,
   "metadata": {},
   "outputs": [
    {
     "name": "stdout",
     "output_type": "stream",
     "text": [
      "hello Freddy\n"
     ]
    }
   ],
   "source": [
    "def hello(name):\n",
    "    return 'hello ' + name\n",
    "    \n",
    "print(hello('Freddy'))"
   ]
  },
  {
   "cell_type": "markdown",
   "metadata": {},
   "source": [
    "# Numpy Arrays"
   ]
  },
  {
   "cell_type": "raw",
   "metadata": {},
   "source": [
    "#Numpy arrays are a very common form of arrays to use in python. If Numpy is not found, refer to the Jupyter notebook guide to installing new packages into the anaconda environment.\n",
    "For more details and examples on Numpy functions refer to \n",
    "https://github.com/ageron/handson-ml/blob/master/tools_numpy.ipynb"
   ]
  },
  {
   "cell_type": "code",
   "execution_count": 23,
   "metadata": {},
   "outputs": [
    {
     "name": "stdout",
     "output_type": "stream",
     "text": [
      "[0. 0. 0. 0. 0.]\n",
      "[[0. 0. 0. 0.]\n",
      " [0. 0. 0. 0.]\n",
      " [0. 0. 0. 0.]]\n",
      "size:12\n",
      "size: 12\n",
      "size: 12\n",
      "shape:(3, 4)\n",
      "Num dimensions:2\n",
      "b: \n",
      " [[2. 2. 2. 2.]\n",
      " [2. 2. 2. 2.]\n",
      " [2. 2. 2. 2.]]\n",
      "a+b:\n",
      "[[2. 2. 2. 2.]\n",
      " [2. 2. 2. 2.]\n",
      " [2. 2. 2. 2.]]\n",
      "[5 6 7 8 9]\n",
      "c:\n",
      "[5.  5.5 6.  6.5 7.  7.5 8.  8.5 9.  9.5]\n",
      "5.0\n",
      "[5.5 6. ]\n",
      "d:\n",
      "[[2. 2. 2. 2. 2. 2.]\n",
      " [2. 2. 2. 2. 2. 2.]]\n",
      "shape (2, 6)\n"
     ]
    }
   ],
   "source": [
    "## Import Numpy library - \"as\" keyword allows a simple reference to the package\n",
    "import numpy as np\n",
    "\n",
    "#1D zeros array\n",
    "a = np.zeros(5)\n",
    "print(a)\n",
    "#2D zeros array\n",
    "a = np.zeros([3,4])\n",
    "print(a)\n",
    "\n",
    "print('size:' + str(a.size))\n",
    "print(f'size: {a.size}')\n",
    "print('size:', a.size)\n",
    "print('shape:' + str(a.shape))\n",
    "print('Num dimensions:' + str(a.ndim))\n",
    "\n",
    "# Arrays of ones can be made, and multipled by integers\n",
    "b = 2*np.ones([3,4])\n",
    "print(f'b: \\n {b}')\n",
    "print('a+b:')\n",
    "print(a+b)\n",
    "\n",
    "# Numpy range of numbers\n",
    "print(np.arange(5,10))\n",
    "# Can also be used with a step parameter\n",
    "print('c:')\n",
    "c = np.arange(5,10,0.5)\n",
    "print(c)\n",
    "\n",
    "# Elements from an array can be accessed using '[]'. Note: Python arrays index from 0\n",
    "# Can also use slice\n",
    "print(c[0])\n",
    "print(c[1:3])\n",
    "\n",
    "# Numpy arrays can be reshaped\n",
    "print('d:')\n",
    "d = b.reshape(2,6)\n",
    "print(d)\n",
    "print('shape', d.shape)"
   ]
  },
  {
   "cell_type": "markdown",
   "metadata": {},
   "source": [
    "#  Pandas Dataframe"
   ]
  },
  {
   "cell_type": "raw",
   "metadata": {},
   "source": [
    "# we will be using pandas dataframe in this course. Pandas dataframe is a two dimensional, potentially hterogeneous tabular data structure. It consists of three main components: data, row and columns"
   ]
  },
  {
   "cell_type": "code",
   "execution_count": 21,
   "metadata": {},
   "outputs": [
    {
     "data": {
      "text/html": [
       "<div>\n",
       "<style scoped>\n",
       "    .dataframe tbody tr th:only-of-type {\n",
       "        vertical-align: middle;\n",
       "    }\n",
       "\n",
       "    .dataframe tbody tr th {\n",
       "        vertical-align: top;\n",
       "    }\n",
       "\n",
       "    .dataframe thead th {\n",
       "        text-align: right;\n",
       "    }\n",
       "</style>\n",
       "<table border=\"1\" class=\"dataframe\">\n",
       "  <thead>\n",
       "    <tr style=\"text-align: right;\">\n",
       "      <th></th>\n",
       "      <th>name</th>\n",
       "      <th>Location</th>\n",
       "      <th>age</th>\n",
       "    </tr>\n",
       "  </thead>\n",
       "  <tbody>\n",
       "    <tr>\n",
       "      <td>0</td>\n",
       "      <td>John</td>\n",
       "      <td>New York</td>\n",
       "      <td>24</td>\n",
       "    </tr>\n",
       "    <tr>\n",
       "      <td>1</td>\n",
       "      <td>Anna</td>\n",
       "      <td>Paris</td>\n",
       "      <td>13</td>\n",
       "    </tr>\n",
       "    <tr>\n",
       "      <td>2</td>\n",
       "      <td>Peter</td>\n",
       "      <td>Berlin</td>\n",
       "      <td>53</td>\n",
       "    </tr>\n",
       "    <tr>\n",
       "      <td>3</td>\n",
       "      <td>Linda</td>\n",
       "      <td>London</td>\n",
       "      <td>33</td>\n",
       "    </tr>\n",
       "  </tbody>\n",
       "</table>\n",
       "</div>"
      ],
      "text/plain": [
       "    name  Location  age\n",
       "0   John  New York   24\n",
       "1   Anna     Paris   13\n",
       "2  Peter    Berlin   53\n",
       "3  Linda    London   33"
      ]
     },
     "metadata": {},
     "output_type": "display_data"
    },
    {
     "data": {
      "text/html": [
       "<div>\n",
       "<style scoped>\n",
       "    .dataframe tbody tr th:only-of-type {\n",
       "        vertical-align: middle;\n",
       "    }\n",
       "\n",
       "    .dataframe tbody tr th {\n",
       "        vertical-align: top;\n",
       "    }\n",
       "\n",
       "    .dataframe thead th {\n",
       "        text-align: right;\n",
       "    }\n",
       "</style>\n",
       "<table border=\"1\" class=\"dataframe\">\n",
       "  <thead>\n",
       "    <tr style=\"text-align: right;\">\n",
       "      <th></th>\n",
       "      <th>name</th>\n",
       "      <th>age</th>\n",
       "    </tr>\n",
       "  </thead>\n",
       "  <tbody>\n",
       "    <tr>\n",
       "      <td>0</td>\n",
       "      <td>John</td>\n",
       "      <td>24</td>\n",
       "    </tr>\n",
       "    <tr>\n",
       "      <td>1</td>\n",
       "      <td>Anna</td>\n",
       "      <td>13</td>\n",
       "    </tr>\n",
       "    <tr>\n",
       "      <td>2</td>\n",
       "      <td>Peter</td>\n",
       "      <td>53</td>\n",
       "    </tr>\n",
       "    <tr>\n",
       "      <td>3</td>\n",
       "      <td>Linda</td>\n",
       "      <td>33</td>\n",
       "    </tr>\n",
       "  </tbody>\n",
       "</table>\n",
       "</div>"
      ],
      "text/plain": [
       "    name  age\n",
       "0   John   24\n",
       "1   Anna   13\n",
       "2  Peter   53\n",
       "3  Linda   33"
      ]
     },
     "metadata": {},
     "output_type": "display_data"
    },
    {
     "data": {
      "text/html": [
       "<div>\n",
       "<style scoped>\n",
       "    .dataframe tbody tr th:only-of-type {\n",
       "        vertical-align: middle;\n",
       "    }\n",
       "\n",
       "    .dataframe tbody tr th {\n",
       "        vertical-align: top;\n",
       "    }\n",
       "\n",
       "    .dataframe thead th {\n",
       "        text-align: right;\n",
       "    }\n",
       "</style>\n",
       "<table border=\"1\" class=\"dataframe\">\n",
       "  <thead>\n",
       "    <tr style=\"text-align: right;\">\n",
       "      <th></th>\n",
       "      <th>name</th>\n",
       "      <th>Location</th>\n",
       "      <th>age</th>\n",
       "    </tr>\n",
       "  </thead>\n",
       "  <tbody>\n",
       "    <tr>\n",
       "      <td>1</td>\n",
       "      <td>Anna</td>\n",
       "      <td>Paris</td>\n",
       "      <td>13</td>\n",
       "    </tr>\n",
       "    <tr>\n",
       "      <td>3</td>\n",
       "      <td>Linda</td>\n",
       "      <td>London</td>\n",
       "      <td>33</td>\n",
       "    </tr>\n",
       "  </tbody>\n",
       "</table>\n",
       "</div>"
      ],
      "text/plain": [
       "    name Location  age\n",
       "1   Anna    Paris   13\n",
       "3  Linda   London   33"
      ]
     },
     "metadata": {},
     "output_type": "display_data"
    },
    {
     "data": {
      "text/html": [
       "<div>\n",
       "<style scoped>\n",
       "    .dataframe tbody tr th:only-of-type {\n",
       "        vertical-align: middle;\n",
       "    }\n",
       "\n",
       "    .dataframe tbody tr th {\n",
       "        vertical-align: top;\n",
       "    }\n",
       "\n",
       "    .dataframe thead th {\n",
       "        text-align: right;\n",
       "    }\n",
       "</style>\n",
       "<table border=\"1\" class=\"dataframe\">\n",
       "  <thead>\n",
       "    <tr style=\"text-align: right;\">\n",
       "      <th></th>\n",
       "      <th>Location</th>\n",
       "      <th>age</th>\n",
       "    </tr>\n",
       "    <tr>\n",
       "      <th>name</th>\n",
       "      <th></th>\n",
       "      <th></th>\n",
       "    </tr>\n",
       "  </thead>\n",
       "  <tbody>\n",
       "    <tr>\n",
       "      <td>John</td>\n",
       "      <td>New York</td>\n",
       "      <td>24</td>\n",
       "    </tr>\n",
       "    <tr>\n",
       "      <td>Anna</td>\n",
       "      <td>Paris</td>\n",
       "      <td>13</td>\n",
       "    </tr>\n",
       "    <tr>\n",
       "      <td>Peter</td>\n",
       "      <td>Berlin</td>\n",
       "      <td>53</td>\n",
       "    </tr>\n",
       "    <tr>\n",
       "      <td>Linda</td>\n",
       "      <td>London</td>\n",
       "      <td>33</td>\n",
       "    </tr>\n",
       "  </tbody>\n",
       "</table>\n",
       "</div>"
      ],
      "text/plain": [
       "       Location  age\n",
       "name                \n",
       "John   New York   24\n",
       "Anna      Paris   13\n",
       "Peter    Berlin   53\n",
       "Linda    London   33"
      ]
     },
     "metadata": {},
     "output_type": "display_data"
    },
    {
     "data": {
      "text/html": [
       "<div>\n",
       "<style scoped>\n",
       "    .dataframe tbody tr th:only-of-type {\n",
       "        vertical-align: middle;\n",
       "    }\n",
       "\n",
       "    .dataframe tbody tr th {\n",
       "        vertical-align: top;\n",
       "    }\n",
       "\n",
       "    .dataframe thead th {\n",
       "        text-align: right;\n",
       "    }\n",
       "</style>\n",
       "<table border=\"1\" class=\"dataframe\">\n",
       "  <thead>\n",
       "    <tr style=\"text-align: right;\">\n",
       "      <th></th>\n",
       "      <th>Location</th>\n",
       "      <th>age</th>\n",
       "    </tr>\n",
       "    <tr>\n",
       "      <th>name</th>\n",
       "      <th></th>\n",
       "      <th></th>\n",
       "    </tr>\n",
       "  </thead>\n",
       "  <tbody>\n",
       "    <tr>\n",
       "      <td>Peter</td>\n",
       "      <td>Berlin</td>\n",
       "      <td>53</td>\n",
       "    </tr>\n",
       "  </tbody>\n",
       "</table>\n",
       "</div>"
      ],
      "text/plain": [
       "      Location  age\n",
       "name               \n",
       "Peter   Berlin   53"
      ]
     },
     "metadata": {},
     "output_type": "display_data"
    }
   ],
   "source": [
    "import pandas as pd\n",
    "\n",
    "# create a simple dictionary of people\n",
    "data = {\n",
    "    'name': ['John','Anna', 'Peter', 'Linda'],\n",
    "    'Location': ['New York', 'Paris', 'Berlin', 'London'],\n",
    "    'age': [24, 13, 53 ,33]\n",
    "}\n",
    "\n",
    "# Convert dictionary to dataframe\n",
    "data_pandas = pd.DataFrame(data)\n",
    "# Ipython.display allows 'pretty printing' of dataframes\n",
    "# in the Jupyter notebook\n",
    "display(data_pandas)\n",
    "\n",
    "# Specific columns of data can also be selected using '[]'\n",
    "display(data_pandas[['name', 'age']])\n",
    "\n",
    "# Rows an also be selected by either an integer of the row using the iloc function of pandas\n",
    "display(data_pandas.iloc[[1,3]])\n",
    "\n",
    "# You can also select a row with loc\n",
    "# Let's first change the index of this dataset to 'Name', and then select the row for peter.\n",
    "data_pandas = data_pandas.set_index('name')\n",
    "display(data_pandas)\n",
    "display(data_pandas.loc[['Peter']])"
   ]
  },
  {
   "cell_type": "code",
   "execution_count": null,
   "metadata": {},
   "outputs": [],
   "source": []
  }
 ],
 "metadata": {
  "kernelspec": {
   "display_name": "Python 3",
   "language": "python",
   "name": "python3"
  },
  "language_info": {
   "codemirror_mode": {
    "name": "ipython",
    "version": 3
   },
   "file_extension": ".py",
   "mimetype": "text/x-python",
   "name": "python",
   "nbconvert_exporter": "python",
   "pygments_lexer": "ipython3",
   "version": "3.7.4"
  }
 },
 "nbformat": 4,
 "nbformat_minor": 2
}
